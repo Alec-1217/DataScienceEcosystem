{
 "cells": [
  {
   "cell_type": "markdown",
   "id": "e7f7d43b",
   "metadata": {},
   "source": [
    "# Data Science Tools and Ecosystem"
   ]
  },
  {
   "cell_type": "markdown",
   "id": "dd8fdea5",
   "metadata": {},
   "source": [
    "## In this notebook, Data Science Tools and Ecosystem are summarized."
   ]
  },
  {
   "cell_type": "markdown",
   "id": "43045e34",
   "metadata": {},
   "source": [
    "**Objectives:**\n",
    "* Java\n",
    "* Java Script\n",
    "* ggplot\n",
    "* scikit-learn\n",
    "* TensorFlow\n"
   ]
  },
  {
   "cell_type": "markdown",
   "id": "56db451b",
   "metadata": {},
   "source": [
    "### Some of the popular languages that Data Scientists use are:\n",
    "#### order list:\n",
    "1. Python\n",
    "2. Rstudio\n",
    "3. C++"
   ]
  },
  {
   "cell_type": "markdown",
   "id": "1fc19965",
   "metadata": {},
   "source": [
    "### Some of the commonly used libraries used by Data Scientists include:\n",
    "#### order list:\n",
    "1. pandas\n",
    "2. numpy\n",
    "3. matplotlib"
   ]
  },
  {
   "cell_type": "markdown",
   "id": "1a0446e7",
   "metadata": {},
   "source": [
    "### Create a markdown cell with a table of Data Science tools\n",
    "| Data Science Tools | \n",
    "| -------------| \n",
    "| Weka |\n",
    "| Spark | \n",
    "| TensorFlow | "
   ]
  },
  {
   "cell_type": "markdown",
   "id": "d1097f35",
   "metadata": {},
   "source": [
    "### Below are a few examples of evaluating arithmetic expressions in Python"
   ]
  },
  {
   "cell_type": "markdown",
   "id": "33f7114e",
   "metadata": {},
   "source": [
    "#### This a simple arithmetic expression to mutiply then add integers"
   ]
  },
  {
   "cell_type": "code",
   "execution_count": 2,
   "id": "ea4785a2",
   "metadata": {},
   "outputs": [
    {
     "name": "stdout",
     "output_type": "stream",
     "text": [
      "17\n"
     ]
    }
   ],
   "source": [
    "print((3*4)+5)"
   ]
  },
  {
   "cell_type": "markdown",
   "id": "3542081a",
   "metadata": {},
   "source": [
    "#### This will convert 200 minutes to hours by diving by 60"
   ]
  },
  {
   "cell_type": "code",
   "execution_count": 6,
   "id": "1a14a199",
   "metadata": {},
   "outputs": [
    {
     "name": "stdout",
     "output_type": "stream",
     "text": [
      "200minutes = 3.3333333333333335 hours\n"
     ]
    }
   ],
   "source": [
    "minutes = 200\n",
    "hours = float(minutes/60)\n",
    "print('200minutes =', hours, 'hours')"
   ]
  },
  {
   "cell_type": "markdown",
   "id": "cfc7b183",
   "metadata": {},
   "source": [
    "## Author\n",
    "Alec Chen"
   ]
  }
 ],
 "metadata": {
  "kernelspec": {
   "display_name": "Python 3 (ipykernel)",
   "language": "python",
   "name": "python3"
  },
  "language_info": {
   "codemirror_mode": {
    "name": "ipython",
    "version": 3
   },
   "file_extension": ".py",
   "mimetype": "text/x-python",
   "name": "python",
   "nbconvert_exporter": "python",
   "pygments_lexer": "ipython3",
   "version": "3.10.9"
  }
 },
 "nbformat": 4,
 "nbformat_minor": 5
}
